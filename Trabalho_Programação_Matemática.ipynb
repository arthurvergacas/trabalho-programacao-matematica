{
  "nbformat": 4,
  "nbformat_minor": 0,
  "metadata": {
    "colab": {
      "provenance": []
    },
    "kernelspec": {
      "name": "python3",
      "display_name": "Python 3"
    },
    "language_info": {
      "name": "python"
    }
  },
  "cells": [
    {
      "cell_type": "code",
      "execution_count": 3,
      "metadata": {
        "colab": {
          "base_uri": "https://localhost:8080/"
        },
        "cellView": "form",
        "id": "D0VX3ydqP3dQ",
        "outputId": "9d5c795c-dd5a-4ea1-fe78-173182af73a7"
      },
      "outputs": [
        {
          "output_type": "stream",
          "name": "stdout",
          "text": [
            "Collecting pulp\n",
            "  Downloading PuLP-2.7.0-py3-none-any.whl (14.3 MB)\n",
            "\u001b[2K     \u001b[90m━━━━━━━━━━━━━━━━━━━━━━━━━━━━━━━━━━━━━━━━\u001b[0m \u001b[32m14.3/14.3 MB\u001b[0m \u001b[31m71.9 MB/s\u001b[0m eta \u001b[36m0:00:00\u001b[0m\n",
            "\u001b[?25hInstalling collected packages: pulp\n",
            "Successfully installed pulp-2.7.0\n"
          ]
        }
      ],
      "source": [
        "#@title Instalando o PuLP\n",
        "\n",
        "!pip install pulp"
      ]
    },
    {
      "cell_type": "code",
      "source": [
        "#@title Instalando o SCIP\n",
        "\n"
      ],
      "metadata": {
        "id": "oMq6_cn_95Fl"
      },
      "execution_count": null,
      "outputs": []
    },
    {
      "cell_type": "code",
      "source": [
        "import numpy as np\n",
        "import pulp as pl"
      ],
      "metadata": {
        "id": "fHkd4BuOQuEY"
      },
      "execution_count": 35,
      "outputs": []
    },
    {
      "cell_type": "markdown",
      "source": [
        "# Modelagem dos Problemas"
      ],
      "metadata": {
        "id": "8hEOW_bgQjNY"
      }
    },
    {
      "cell_type": "code",
      "source": [
        "#@title Definição de Solvers\n",
        "SCIP_SOLVER = pl.SCIP_CMD(path = \"\", timeLimit = 5 * 60)"
      ],
      "metadata": {
        "id": "7e3EUr9rfsaA"
      },
      "execution_count": null,
      "outputs": []
    },
    {
      "cell_type": "code",
      "source": [
        "#@title Definição de Constantes\n",
        "\n",
        "n = 10\n",
        "m = 15\n",
        "f = [12] * n\n",
        "c = [[3] * m] * n\n",
        "d = [2] * m\n",
        "cap = [4] * n"
      ],
      "metadata": {
        "id": "CGsukZuZR8in"
      },
      "execution_count": 8,
      "outputs": []
    },
    {
      "cell_type": "code",
      "source": [
        "#@title Minimizando Custos\n",
        "\n",
        "# Criar o modelo\n",
        "modelo_minimizacao = pl.LpProblem(\"Minimizando_Custos\")\n",
        "\n",
        "# Inicializar as variáveis\n",
        "y = np.array([pl.LpVariable(f\"y{i}\", cat=pl.LpBinary) for i in range(n)])\n",
        "x = np.array([[pl.LpVariable(f\"x{i}{j}\", lowBound=0, upBound=1) for j in range(m)] for i in range(n)])\n",
        "\n",
        "# Define as restrições\n",
        "for j in range(m):\n",
        "  modelo_minimizacao += (pl.lpSum(x[:, j]) == 1, f\"demanda_cliente_{j}_atendida\")\n",
        "\n",
        "for i in range(n):\n",
        "  modelo_minimizacao += (pl.lpSum(d * x[i]) <= cap[i] * y[i], f\"assegura_capacidade_facilidade_{i}\")\n",
        "\n",
        "# Define a função objetivo\n",
        "modelo_minimizacao += pl.lpSum(f * y) + pl.lpSum(pl.lpSum(c[i] * x[i]) for i in range(n))\n",
        "\n",
        "modelo_minimizacao.solve()"
      ],
      "metadata": {
        "colab": {
          "base_uri": "https://localhost:8080/"
        },
        "id": "XJOSmd9MQidA",
        "outputId": "19f45387-a000-48ac-8662-901a73004f62"
      },
      "execution_count": 38,
      "outputs": [
        {
          "output_type": "execute_result",
          "data": {
            "text/plain": [
              "['PULP_CBC_CMD']"
            ]
          },
          "metadata": {},
          "execution_count": 38
        }
      ]
    }
  ]
}